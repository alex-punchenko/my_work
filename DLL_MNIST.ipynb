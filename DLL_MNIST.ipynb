{
 "cells": [
  {
   "cell_type": "code",
   "execution_count": 111,
   "id": "2a5978e6",
   "metadata": {},
   "outputs": [],
   "source": [
    "import torch\n",
    "import torchvision as tv"
   ]
  },
  {
   "cell_type": "code",
   "execution_count": 112,
   "id": "f3edee3c",
   "metadata": {},
   "outputs": [],
   "source": [
    "BATCH_SIZE = 64"
   ]
  },
  {
   "cell_type": "code",
   "execution_count": 113,
   "id": "5485bed3",
   "metadata": {},
   "outputs": [],
   "source": [
    "train_dataset = tv.datasets.MNIST('.', train=True, transform=tv.transforms.ToTensor(), download=True)\n",
    "test_dataset = tv.datasets.MNIST('.', train=False, transform=tv.transforms.ToTensor(), download=True)"
   ]
  },
  {
   "cell_type": "code",
   "execution_count": 114,
   "id": "368dfa1c",
   "metadata": {},
   "outputs": [],
   "source": [
    "train, val = torch.utils.data.random_split(train_dataset, [int(0.9 * len(train_dataset)), int(0.1 * len(train_dataset))])\n",
    "\n",
    "train = torch.utils.data.DataLoader(train, batch_size=BATCH_SIZE,shuffle=True)\n",
    "val = torch.utils.data.DataLoader(val, batch_size=BATCH_SIZE,shuffle=False)\n",
    "test = torch.utils.data.DataLoader(test_dataset, batch_size=BATCH_SIZE,shuffle=False)"
   ]
  },
  {
   "cell_type": "code",
   "execution_count": 132,
   "id": "ce0beed8",
   "metadata": {},
   "outputs": [
    {
     "name": "stdout",
     "output_type": "stream",
     "text": [
      "Epoch №1\n",
      "Loss train: 0.3564, Acc train: 0.9047\n",
      "Loss val: 0.1962, Acc val: 0.9458\n",
      "\n",
      "Epoch №2\n",
      "Loss train: 0.1606, Acc train: 0.9532\n",
      "Loss val: 0.1417, Acc val: 0.9596\n",
      "\n",
      "Epoch №3\n",
      "Loss train: 0.1140, Acc train: 0.9670\n",
      "Loss val: 0.1140, Acc val: 0.9673\n",
      "\n",
      "Epoch №4\n",
      "Loss train: 0.0881, Acc train: 0.9737\n",
      "Loss val: 0.1050, Acc val: 0.9694\n",
      "\n",
      "Epoch №5\n",
      "Loss train: 0.0702, Acc train: 0.9790\n",
      "Loss val: 0.0903, Acc val: 0.9747\n",
      "\n"
     ]
    }
   ],
   "source": [
    "# ===== MODEL =====\n",
    "model = torch.nn.Sequential(\n",
    "    torch.nn.Flatten(),\n",
    "    torch.nn.Linear(28**2, 128),\n",
    "    torch.nn.ReLU(),\n",
    "    torch.nn.Linear(128, 10)\n",
    ")\n",
    "\n",
    "# ===== Loss and Optimizer =====\n",
    "loss_fn = torch.nn.CrossEntropyLoss()\n",
    "optimizer = torch.optim.Adam(model.parameters())\n",
    "\n",
    "\n",
    "for epoch in range(5):\n",
    "    # ===== TRAIN =====\n",
    "    epoch_loss = 0\n",
    "    epoch_accuracy = 0\n",
    "    model.train()\n",
    "    \n",
    "    for X, y in train:\n",
    "        optimizer.zero_grad()\n",
    "        y_pred = model(X)\n",
    "        loss = loss_fn(y_pred, y)\n",
    "        loss.backward() \n",
    "        optimizer.step()\n",
    "\n",
    "        _, preds = torch.max(y_pred, 1)\n",
    "        accuracy = (preds == y).float().mean()\n",
    "        epoch_accuracy += accuracy.item()\n",
    "        epoch_loss += loss.item()\n",
    "\n",
    "    train_loss = epoch_loss / len(train)\n",
    "    train_acc = epoch_accuracy / len(train)\n",
    "\n",
    "    # ===== VALIDATION =====\n",
    "    model.eval()\n",
    "    val_loss = 0\n",
    "    val_accuracy = 0\n",
    "\n",
    "    with torch.no_grad():\n",
    "        for X, y in val:\n",
    "            y_pred = model(X)\n",
    "            loss = loss_fn(y_pred, y)\n",
    "            _, preds = torch.max(y_pred, 1)\n",
    "            val_accuracy += (preds == y).float().mean()\n",
    "            val_loss += loss.item()\n",
    "\n",
    "    val_loss /= len(val)\n",
    "    val_acc = val_accuracy / len(val)\n",
    "\n",
    "    # ===== PRINT =====\n",
    "    print(f'Epoch №{epoch+1}')\n",
    "    print(f'Loss train: {train_loss:.4f}, Acc train: {train_acc:.4f}')\n",
    "    print(f'Loss val: {val_loss:.4f}, Acc val: {val_acc:.4f}\\n')\n"
   ]
  },
  {
   "cell_type": "code",
   "execution_count": 133,
   "id": "23c1c3a3",
   "metadata": {},
   "outputs": [
    {
     "name": "stdout",
     "output_type": "stream",
     "text": [
      "Test Loss: 0.0802, Test Accuracy: 0.9759\n"
     ]
    }
   ],
   "source": [
    "model.eval()\n",
    "test_loss = 0\n",
    "test_correct = 0\n",
    "test_total = 0\n",
    "\n",
    "with torch.no_grad():\n",
    "    for X, y in test:\n",
    "        y_pred = model(X)\n",
    "        test_loss += loss_fn(y_pred, y).item() * y.size(0)\n",
    "        _, preds = torch.max(y_pred, 1)\n",
    "        test_correct += (preds == y).sum().item()\n",
    "        test_total += y.size(0)\n",
    "\n",
    "test_loss /= test_total\n",
    "test_acc = test_correct / test_total\n",
    "\n",
    "print(f'Test Loss: {test_loss:.4f}, Test Accuracy: {test_acc:.4f}')"
   ]
  }
 ],
 "metadata": {
  "kernelspec": {
   "display_name": "Python 3",
   "language": "python",
   "name": "python3"
  },
  "language_info": {
   "codemirror_mode": {
    "name": "ipython",
    "version": 3
   },
   "file_extension": ".py",
   "mimetype": "text/x-python",
   "name": "python",
   "nbconvert_exporter": "python",
   "pygments_lexer": "ipython3",
   "version": "3.13.5"
  }
 },
 "nbformat": 4,
 "nbformat_minor": 5
}
