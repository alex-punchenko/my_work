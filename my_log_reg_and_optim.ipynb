{
  "nbformat": 4,
  "nbformat_minor": 0,
  "metadata": {
    "colab": {
      "provenance": [],
      "toc_visible": true
    },
    "kernelspec": {
      "name": "python3",
      "display_name": "Python 3"
    },
    "language_info": {
      "name": "python"
    }
  },
  "cells": [
    {
      "cell_type": "markdown",
      "source": [
        "# Загрузка и обработка данных"
      ],
      "metadata": {
        "id": "YlhMudeBMpVl"
      }
    },
    {
      "cell_type": "code",
      "execution_count": null,
      "metadata": {
        "id": "demRbGJtAQaO"
      },
      "outputs": [],
      "source": [
        "import pandas as pd\n",
        "import numpy as np\n",
        "from sklearn.datasets import load_iris"
      ]
    },
    {
      "cell_type": "code",
      "source": [
        "iris = load_iris(as_frame=True)"
      ],
      "metadata": {
        "id": "d3LSlUSqDzml",
        "collapsed": true
      },
      "execution_count": null,
      "outputs": []
    },
    {
      "cell_type": "code",
      "source": [
        "df = iris.data"
      ],
      "metadata": {
        "id": "ksox1_bxEyaq"
      },
      "execution_count": null,
      "outputs": []
    },
    {
      "cell_type": "code",
      "source": [
        "df = df.join(iris.target)"
      ],
      "metadata": {
        "id": "IzoHNSKzFEaN"
      },
      "execution_count": null,
      "outputs": []
    },
    {
      "cell_type": "code",
      "source": [
        "df = df.loc[df['target'].isin([1, 2])]"
      ],
      "metadata": {
        "id": "lC2Bw-DzGteZ"
      },
      "execution_count": null,
      "outputs": []
    },
    {
      "cell_type": "code",
      "source": [
        "df['target'] = df['target'].replace({1: 0, 2: 1})"
      ],
      "metadata": {
        "id": "nY0oaMJqY8d3"
      },
      "execution_count": null,
      "outputs": []
    },
    {
      "cell_type": "code",
      "source": [
        "x = df.drop(columns='target')\n",
        "y = np.array(df['target'])"
      ],
      "metadata": {
        "id": "Sb8LPWVOI5xw"
      },
      "execution_count": null,
      "outputs": []
    },
    {
      "cell_type": "code",
      "source": [
        "x[:5]"
      ],
      "metadata": {
        "colab": {
          "base_uri": "https://localhost:8080/",
          "height": 206
        },
        "id": "ZRrNTbWqf50p",
        "outputId": "bbacf1a1-2f31-4dbf-b504-0c184b3a544c"
      },
      "execution_count": null,
      "outputs": [
        {
          "output_type": "execute_result",
          "data": {
            "text/plain": [
              "    sepal length (cm)  sepal width (cm)  petal length (cm)  petal width (cm)\n",
              "50                7.0               3.2                4.7               1.4\n",
              "51                6.4               3.2                4.5               1.5\n",
              "52                6.9               3.1                4.9               1.5\n",
              "53                5.5               2.3                4.0               1.3\n",
              "54                6.5               2.8                4.6               1.5"
            ],
            "text/html": [
              "\n",
              "  <div id=\"df-e25cbe52-193e-4d5a-ab55-4b50400abe15\" class=\"colab-df-container\">\n",
              "    <div>\n",
              "<style scoped>\n",
              "    .dataframe tbody tr th:only-of-type {\n",
              "        vertical-align: middle;\n",
              "    }\n",
              "\n",
              "    .dataframe tbody tr th {\n",
              "        vertical-align: top;\n",
              "    }\n",
              "\n",
              "    .dataframe thead th {\n",
              "        text-align: right;\n",
              "    }\n",
              "</style>\n",
              "<table border=\"1\" class=\"dataframe\">\n",
              "  <thead>\n",
              "    <tr style=\"text-align: right;\">\n",
              "      <th></th>\n",
              "      <th>sepal length (cm)</th>\n",
              "      <th>sepal width (cm)</th>\n",
              "      <th>petal length (cm)</th>\n",
              "      <th>petal width (cm)</th>\n",
              "    </tr>\n",
              "  </thead>\n",
              "  <tbody>\n",
              "    <tr>\n",
              "      <th>50</th>\n",
              "      <td>7.0</td>\n",
              "      <td>3.2</td>\n",
              "      <td>4.7</td>\n",
              "      <td>1.4</td>\n",
              "    </tr>\n",
              "    <tr>\n",
              "      <th>51</th>\n",
              "      <td>6.4</td>\n",
              "      <td>3.2</td>\n",
              "      <td>4.5</td>\n",
              "      <td>1.5</td>\n",
              "    </tr>\n",
              "    <tr>\n",
              "      <th>52</th>\n",
              "      <td>6.9</td>\n",
              "      <td>3.1</td>\n",
              "      <td>4.9</td>\n",
              "      <td>1.5</td>\n",
              "    </tr>\n",
              "    <tr>\n",
              "      <th>53</th>\n",
              "      <td>5.5</td>\n",
              "      <td>2.3</td>\n",
              "      <td>4.0</td>\n",
              "      <td>1.3</td>\n",
              "    </tr>\n",
              "    <tr>\n",
              "      <th>54</th>\n",
              "      <td>6.5</td>\n",
              "      <td>2.8</td>\n",
              "      <td>4.6</td>\n",
              "      <td>1.5</td>\n",
              "    </tr>\n",
              "  </tbody>\n",
              "</table>\n",
              "</div>\n",
              "    <div class=\"colab-df-buttons\">\n",
              "\n",
              "  <div class=\"colab-df-container\">\n",
              "    <button class=\"colab-df-convert\" onclick=\"convertToInteractive('df-e25cbe52-193e-4d5a-ab55-4b50400abe15')\"\n",
              "            title=\"Convert this dataframe to an interactive table.\"\n",
              "            style=\"display:none;\">\n",
              "\n",
              "  <svg xmlns=\"http://www.w3.org/2000/svg\" height=\"24px\" viewBox=\"0 -960 960 960\">\n",
              "    <path d=\"M120-120v-720h720v720H120Zm60-500h600v-160H180v160Zm220 220h160v-160H400v160Zm0 220h160v-160H400v160ZM180-400h160v-160H180v160Zm440 0h160v-160H620v160ZM180-180h160v-160H180v160Zm440 0h160v-160H620v160Z\"/>\n",
              "  </svg>\n",
              "    </button>\n",
              "\n",
              "  <style>\n",
              "    .colab-df-container {\n",
              "      display:flex;\n",
              "      gap: 12px;\n",
              "    }\n",
              "\n",
              "    .colab-df-convert {\n",
              "      background-color: #E8F0FE;\n",
              "      border: none;\n",
              "      border-radius: 50%;\n",
              "      cursor: pointer;\n",
              "      display: none;\n",
              "      fill: #1967D2;\n",
              "      height: 32px;\n",
              "      padding: 0 0 0 0;\n",
              "      width: 32px;\n",
              "    }\n",
              "\n",
              "    .colab-df-convert:hover {\n",
              "      background-color: #E2EBFA;\n",
              "      box-shadow: 0px 1px 2px rgba(60, 64, 67, 0.3), 0px 1px 3px 1px rgba(60, 64, 67, 0.15);\n",
              "      fill: #174EA6;\n",
              "    }\n",
              "\n",
              "    .colab-df-buttons div {\n",
              "      margin-bottom: 4px;\n",
              "    }\n",
              "\n",
              "    [theme=dark] .colab-df-convert {\n",
              "      background-color: #3B4455;\n",
              "      fill: #D2E3FC;\n",
              "    }\n",
              "\n",
              "    [theme=dark] .colab-df-convert:hover {\n",
              "      background-color: #434B5C;\n",
              "      box-shadow: 0px 1px 3px 1px rgba(0, 0, 0, 0.15);\n",
              "      filter: drop-shadow(0px 1px 2px rgba(0, 0, 0, 0.3));\n",
              "      fill: #FFFFFF;\n",
              "    }\n",
              "  </style>\n",
              "\n",
              "    <script>\n",
              "      const buttonEl =\n",
              "        document.querySelector('#df-e25cbe52-193e-4d5a-ab55-4b50400abe15 button.colab-df-convert');\n",
              "      buttonEl.style.display =\n",
              "        google.colab.kernel.accessAllowed ? 'block' : 'none';\n",
              "\n",
              "      async function convertToInteractive(key) {\n",
              "        const element = document.querySelector('#df-e25cbe52-193e-4d5a-ab55-4b50400abe15');\n",
              "        const dataTable =\n",
              "          await google.colab.kernel.invokeFunction('convertToInteractive',\n",
              "                                                    [key], {});\n",
              "        if (!dataTable) return;\n",
              "\n",
              "        const docLinkHtml = 'Like what you see? Visit the ' +\n",
              "          '<a target=\"_blank\" href=https://colab.research.google.com/notebooks/data_table.ipynb>data table notebook</a>'\n",
              "          + ' to learn more about interactive tables.';\n",
              "        element.innerHTML = '';\n",
              "        dataTable['output_type'] = 'display_data';\n",
              "        await google.colab.output.renderOutput(dataTable, element);\n",
              "        const docLink = document.createElement('div');\n",
              "        docLink.innerHTML = docLinkHtml;\n",
              "        element.appendChild(docLink);\n",
              "      }\n",
              "    </script>\n",
              "  </div>\n",
              "\n",
              "\n",
              "<div id=\"df-276bdc17-184e-4855-a280-8cdee14d713f\">\n",
              "  <button class=\"colab-df-quickchart\" onclick=\"quickchart('df-276bdc17-184e-4855-a280-8cdee14d713f')\"\n",
              "            title=\"Suggest charts\"\n",
              "            style=\"display:none;\">\n",
              "\n",
              "<svg xmlns=\"http://www.w3.org/2000/svg\" height=\"24px\"viewBox=\"0 0 24 24\"\n",
              "     width=\"24px\">\n",
              "    <g>\n",
              "        <path d=\"M19 3H5c-1.1 0-2 .9-2 2v14c0 1.1.9 2 2 2h14c1.1 0 2-.9 2-2V5c0-1.1-.9-2-2-2zM9 17H7v-7h2v7zm4 0h-2V7h2v10zm4 0h-2v-4h2v4z\"/>\n",
              "    </g>\n",
              "</svg>\n",
              "  </button>\n",
              "\n",
              "<style>\n",
              "  .colab-df-quickchart {\n",
              "      --bg-color: #E8F0FE;\n",
              "      --fill-color: #1967D2;\n",
              "      --hover-bg-color: #E2EBFA;\n",
              "      --hover-fill-color: #174EA6;\n",
              "      --disabled-fill-color: #AAA;\n",
              "      --disabled-bg-color: #DDD;\n",
              "  }\n",
              "\n",
              "  [theme=dark] .colab-df-quickchart {\n",
              "      --bg-color: #3B4455;\n",
              "      --fill-color: #D2E3FC;\n",
              "      --hover-bg-color: #434B5C;\n",
              "      --hover-fill-color: #FFFFFF;\n",
              "      --disabled-bg-color: #3B4455;\n",
              "      --disabled-fill-color: #666;\n",
              "  }\n",
              "\n",
              "  .colab-df-quickchart {\n",
              "    background-color: var(--bg-color);\n",
              "    border: none;\n",
              "    border-radius: 50%;\n",
              "    cursor: pointer;\n",
              "    display: none;\n",
              "    fill: var(--fill-color);\n",
              "    height: 32px;\n",
              "    padding: 0;\n",
              "    width: 32px;\n",
              "  }\n",
              "\n",
              "  .colab-df-quickchart:hover {\n",
              "    background-color: var(--hover-bg-color);\n",
              "    box-shadow: 0 1px 2px rgba(60, 64, 67, 0.3), 0 1px 3px 1px rgba(60, 64, 67, 0.15);\n",
              "    fill: var(--button-hover-fill-color);\n",
              "  }\n",
              "\n",
              "  .colab-df-quickchart-complete:disabled,\n",
              "  .colab-df-quickchart-complete:disabled:hover {\n",
              "    background-color: var(--disabled-bg-color);\n",
              "    fill: var(--disabled-fill-color);\n",
              "    box-shadow: none;\n",
              "  }\n",
              "\n",
              "  .colab-df-spinner {\n",
              "    border: 2px solid var(--fill-color);\n",
              "    border-color: transparent;\n",
              "    border-bottom-color: var(--fill-color);\n",
              "    animation:\n",
              "      spin 1s steps(1) infinite;\n",
              "  }\n",
              "\n",
              "  @keyframes spin {\n",
              "    0% {\n",
              "      border-color: transparent;\n",
              "      border-bottom-color: var(--fill-color);\n",
              "      border-left-color: var(--fill-color);\n",
              "    }\n",
              "    20% {\n",
              "      border-color: transparent;\n",
              "      border-left-color: var(--fill-color);\n",
              "      border-top-color: var(--fill-color);\n",
              "    }\n",
              "    30% {\n",
              "      border-color: transparent;\n",
              "      border-left-color: var(--fill-color);\n",
              "      border-top-color: var(--fill-color);\n",
              "      border-right-color: var(--fill-color);\n",
              "    }\n",
              "    40% {\n",
              "      border-color: transparent;\n",
              "      border-right-color: var(--fill-color);\n",
              "      border-top-color: var(--fill-color);\n",
              "    }\n",
              "    60% {\n",
              "      border-color: transparent;\n",
              "      border-right-color: var(--fill-color);\n",
              "    }\n",
              "    80% {\n",
              "      border-color: transparent;\n",
              "      border-right-color: var(--fill-color);\n",
              "      border-bottom-color: var(--fill-color);\n",
              "    }\n",
              "    90% {\n",
              "      border-color: transparent;\n",
              "      border-bottom-color: var(--fill-color);\n",
              "    }\n",
              "  }\n",
              "</style>\n",
              "\n",
              "  <script>\n",
              "    async function quickchart(key) {\n",
              "      const quickchartButtonEl =\n",
              "        document.querySelector('#' + key + ' button');\n",
              "      quickchartButtonEl.disabled = true;  // To prevent multiple clicks.\n",
              "      quickchartButtonEl.classList.add('colab-df-spinner');\n",
              "      try {\n",
              "        const charts = await google.colab.kernel.invokeFunction(\n",
              "            'suggestCharts', [key], {});\n",
              "      } catch (error) {\n",
              "        console.error('Error during call to suggestCharts:', error);\n",
              "      }\n",
              "      quickchartButtonEl.classList.remove('colab-df-spinner');\n",
              "      quickchartButtonEl.classList.add('colab-df-quickchart-complete');\n",
              "    }\n",
              "    (() => {\n",
              "      let quickchartButtonEl =\n",
              "        document.querySelector('#df-276bdc17-184e-4855-a280-8cdee14d713f button');\n",
              "      quickchartButtonEl.style.display =\n",
              "        google.colab.kernel.accessAllowed ? 'block' : 'none';\n",
              "    })();\n",
              "  </script>\n",
              "</div>\n",
              "    </div>\n",
              "  </div>\n"
            ],
            "application/vnd.google.colaboratory.intrinsic+json": {
              "type": "dataframe",
              "summary": "{\n  \"name\": \"x[:5]\",\n  \"rows\": 5,\n  \"fields\": [\n    {\n      \"column\": \"sepal length (cm)\",\n      \"properties\": {\n        \"dtype\": \"number\",\n        \"std\": 0.594138031100518,\n        \"min\": 5.5,\n        \"max\": 7.0,\n        \"num_unique_values\": 5,\n        \"samples\": [\n          6.4,\n          6.5,\n          6.9\n        ],\n        \"semantic_type\": \"\",\n        \"description\": \"\"\n      }\n    },\n    {\n      \"column\": \"sepal width (cm)\",\n      \"properties\": {\n        \"dtype\": \"number\",\n        \"std\": 0.38340579025361643,\n        \"min\": 2.3,\n        \"max\": 3.2,\n        \"num_unique_values\": 4,\n        \"samples\": [\n          3.1,\n          2.8,\n          3.2\n        ],\n        \"semantic_type\": \"\",\n        \"description\": \"\"\n      }\n    },\n    {\n      \"column\": \"petal length (cm)\",\n      \"properties\": {\n        \"dtype\": \"number\",\n        \"std\": 0.3361547262794323,\n        \"min\": 4.0,\n        \"max\": 4.9,\n        \"num_unique_values\": 5,\n        \"samples\": [\n          4.5,\n          4.6,\n          4.9\n        ],\n        \"semantic_type\": \"\",\n        \"description\": \"\"\n      }\n    },\n    {\n      \"column\": \"petal width (cm)\",\n      \"properties\": {\n        \"dtype\": \"number\",\n        \"std\": 0.08944271909999157,\n        \"min\": 1.3,\n        \"max\": 1.5,\n        \"num_unique_values\": 3,\n        \"samples\": [\n          1.4,\n          1.5,\n          1.3\n        ],\n        \"semantic_type\": \"\",\n        \"description\": \"\"\n      }\n    }\n  ]\n}"
            }
          },
          "metadata": {},
          "execution_count": 171
        }
      ]
    },
    {
      "cell_type": "code",
      "source": [
        "y"
      ],
      "metadata": {
        "colab": {
          "base_uri": "https://localhost:8080/"
        },
        "id": "8OYgdk4SfnD8",
        "outputId": "d9b53726-2379-4b83-a077-024e0dd00b8a"
      },
      "execution_count": null,
      "outputs": [
        {
          "output_type": "execute_result",
          "data": {
            "text/plain": [
              "array([0, 0, 0, 0, 0, 0, 0, 0, 0, 0, 0, 0, 0, 0, 0, 0, 0, 0, 0, 0, 0, 0,\n",
              "       0, 0, 0, 0, 0, 0, 0, 0, 0, 0, 0, 0, 0, 0, 0, 0, 0, 0, 0, 0, 0, 0,\n",
              "       0, 0, 0, 0, 0, 0, 1, 1, 1, 1, 1, 1, 1, 1, 1, 1, 1, 1, 1, 1, 1, 1,\n",
              "       1, 1, 1, 1, 1, 1, 1, 1, 1, 1, 1, 1, 1, 1, 1, 1, 1, 1, 1, 1, 1, 1,\n",
              "       1, 1, 1, 1, 1, 1, 1, 1, 1, 1, 1, 1])"
            ]
          },
          "metadata": {},
          "execution_count": 172
        }
      ]
    },
    {
      "cell_type": "markdown",
      "source": [
        "Добавлю параметр заполненый 1 для того, чтобы избавиться от свободного коэфицента в дальнейшем."
      ],
      "metadata": {
        "id": "Z8R8RqVtYuYP"
      }
    },
    {
      "cell_type": "code",
      "source": [
        "x = np.c_[np.ones(x.shape[0]), x]"
      ],
      "metadata": {
        "id": "Tmzs_2aKXEJE"
      },
      "execution_count": null,
      "outputs": []
    },
    {
      "cell_type": "code",
      "source": [
        "x[:5]"
      ],
      "metadata": {
        "colab": {
          "base_uri": "https://localhost:8080/"
        },
        "id": "tZYNuIhffwkT",
        "outputId": "0596b727-d6a5-47dc-9ec7-01ca634cd174"
      },
      "execution_count": null,
      "outputs": [
        {
          "output_type": "execute_result",
          "data": {
            "text/plain": [
              "array([[1. , 7. , 3.2, 4.7, 1.4],\n",
              "       [1. , 6.4, 3.2, 4.5, 1.5],\n",
              "       [1. , 6.9, 3.1, 4.9, 1.5],\n",
              "       [1. , 5.5, 2.3, 4. , 1.3],\n",
              "       [1. , 6.5, 2.8, 4.6, 1.5]])"
            ]
          },
          "metadata": {},
          "execution_count": 174
        }
      ]
    },
    {
      "cell_type": "markdown",
      "source": [
        "## Разделение на тренировочные и тестовые данные"
      ],
      "metadata": {
        "id": "EuqF_SwmJqMa"
      }
    },
    {
      "cell_type": "code",
      "source": [
        "from sklearn.model_selection import train_test_split"
      ],
      "metadata": {
        "id": "Nhc-xjjVJqxY"
      },
      "execution_count": null,
      "outputs": []
    },
    {
      "cell_type": "code",
      "source": [
        "x_train, x_test, y_train, y_test = train_test_split(x,y,test_size=0.2,train_size=0.8,random_state=1)"
      ],
      "metadata": {
        "id": "vLdn8FatNejh"
      },
      "execution_count": null,
      "outputs": []
    },
    {
      "cell_type": "markdown",
      "source": [
        "# Построение модели"
      ],
      "metadata": {
        "id": "IE9TEZkMQ5xy"
      }
    },
    {
      "cell_type": "markdown",
      "source": [
        "## Вектор весов\n",
        " Первый вектор генерирую из 1."
      ],
      "metadata": {
        "id": "zCHipekAQ-Pi"
      }
    },
    {
      "cell_type": "code",
      "source": [
        "w = np.ones(x_train.shape[1])\n",
        "w"
      ],
      "metadata": {
        "colab": {
          "base_uri": "https://localhost:8080/"
        },
        "id": "fA_GJaQ1On6V",
        "outputId": "2d507ebb-2500-4956-af38-f4f8e8f5365c"
      },
      "execution_count": null,
      "outputs": [
        {
          "output_type": "execute_result",
          "data": {
            "text/plain": [
              "array([1., 1., 1., 1., 1.])"
            ]
          },
          "metadata": {},
          "execution_count": 178
        }
      ]
    },
    {
      "cell_type": "markdown",
      "source": [
        "## Сигмоида\n",
        "Функция: σ(z) = 1 / (1 + exp(-z)), где z — линейная комбинация значений признаков и весов."
      ],
      "metadata": {
        "id": "bNpjYQQERDa4"
      }
    },
    {
      "cell_type": "code",
      "source": [
        "def sigm(z):\n",
        "    return 1 / (1 + np.exp(-z))"
      ],
      "metadata": {
        "id": "jHksj5nDSr7i"
      },
      "execution_count": null,
      "outputs": []
    },
    {
      "cell_type": "code",
      "source": [
        "z = np.dot(x_train, w) # линейная комбинация значений признаков и весов"
      ],
      "metadata": {
        "id": "BbWEEHDlViVO"
      },
      "execution_count": null,
      "outputs": []
    },
    {
      "cell_type": "code",
      "source": [
        "y_pred = sigm(z) # предсказание"
      ],
      "metadata": {
        "id": "eTlyZjDjYRzI",
        "collapsed": true
      },
      "execution_count": null,
      "outputs": []
    },
    {
      "cell_type": "markdown",
      "source": [
        "## Log loss\n",
        "Функция потерь: L = - (1/m) * Σ (y * log(y_pred) + (1 - y) * log(1 - y_pred)), где y — истинное значение, y_pred — предсказанная вероятность, и m — количество объектов."
      ],
      "metadata": {
        "id": "QHxeS1xraj3f"
      }
    },
    {
      "cell_type": "code",
      "source": [
        "def L(y_train, y_pred):\n",
        "    #добавляю небольшое значение epsilon к y_pred, чтобы избежать log(0), так же вычитаю из 1.\n",
        "    epsilon = 1e-15\n",
        "    y_pred = np.clip(y_pred, epsilon, 1 - epsilon)\n",
        "    #подсчет суммы\n",
        "    sum_ = 0\n",
        "    for i in range(len(y_train)):\n",
        "        sum_ += y_train[i] * np.log(y_pred[i]) + (1-y_train[i]) * np.log(1-y_pred[i])\n",
        "\n",
        "    return -(sum_  / len(y_pred))"
      ],
      "metadata": {
        "id": "SzCPLyn0fXYq"
      },
      "execution_count": null,
      "outputs": []
    },
    {
      "cell_type": "code",
      "source": [
        "L(y_train, y_pred) #ошибка на весах с 1"
      ],
      "metadata": {
        "colab": {
          "base_uri": "https://localhost:8080/"
        },
        "id": "7VaL1LGFg7e3",
        "outputId": "0476297e-6b6d-4469-ae8f-c702126faf3e"
      },
      "execution_count": null,
      "outputs": [
        {
          "output_type": "execute_result",
          "data": {
            "text/plain": [
              "8.085000264052015"
            ]
          },
          "metadata": {},
          "execution_count": 183
        }
      ]
    },
    {
      "cell_type": "markdown",
      "source": [
        "Градиент функции потерь по каждому весу для обновления параметров.\\\n",
        "dw = (1/m) * Σ (y_pred - y) * X \\\n"
      ],
      "metadata": {
        "id": "1pCMhJw9wWaj"
      }
    },
    {
      "cell_type": "code",
      "source": [
        "dw = (y_pred - y_train) @ x_train / len(y_train)\n",
        "dw"
      ],
      "metadata": {
        "colab": {
          "base_uri": "https://localhost:8080/"
        },
        "id": "RLGTnqBoZtrz",
        "outputId": "371fdfd6-2022-4f9c-f122-545e44ee1353"
      },
      "execution_count": null,
      "outputs": [
        {
          "output_type": "execute_result",
          "data": {
            "text/plain": [
              "array([0.52499974, 3.13624857, 1.47124933, 2.24749902, 0.70499969])"
            ]
          },
          "metadata": {},
          "execution_count": 184
        }
      ]
    },
    {
      "cell_type": "markdown",
      "source": [
        "# Обучение и получение результатов модели\n"
      ],
      "metadata": {
        "id": "pusLwlo8zUoa"
      }
    },
    {
      "cell_type": "markdown",
      "source": [
        "## Получение оптимальных весов с использованием градиентного спуска"
      ],
      "metadata": {
        "id": "jwNboGw_knKj"
      }
    },
    {
      "cell_type": "code",
      "source": [
        "lr = 0.1\n",
        "epoch = 5000"
      ],
      "metadata": {
        "id": "ag0U91GgzfeM"
      },
      "execution_count": null,
      "outputs": []
    },
    {
      "cell_type": "code",
      "source": [
        "def log_model(x_train,y_train,lr,epoch,print_res=False):\n",
        "    '''\n",
        "    x_train, y_train - тренировочные данные\n",
        "    Построение модели логистической регресси с использованием функции потерь log loss.\n",
        "    На выходе получаем вектор весов (w).\n",
        "    На вход подается x_train,y_train,lr,epoch.\n",
        "    lr-длинна шага обучения,\n",
        "    epoch-количество итераций,\n",
        "    print_res-если True выводит промежуточный результат ошибки каждые 100 итераций\n",
        "    по умолчанию False.\n",
        "    '''\n",
        "    w = np.zeros(x_train.shape[1])\n",
        "    for i in range(epoch):\n",
        "        z = x_train @ w\n",
        "        y_pred = sigm(z)\n",
        "        dw = (y_pred - y_train) @ x_train / len(y_train)\n",
        "        w -= lr * dw\n",
        "\n",
        "    #оценка качества моделей на каждой 100 итерации.Если print_res=True\n",
        "        if print_res == True:\n",
        "            if i % 100 == 0:\n",
        "                print(f\"Epoch {i}, Loss: {L(y_train, y_pred)}\")\n",
        "\n",
        "    return w\n"
      ],
      "metadata": {
        "id": "q410vBhAzV4a"
      },
      "execution_count": null,
      "outputs": []
    },
    {
      "cell_type": "code",
      "source": [
        "log_model(x_train,y_train,lr,epoch)"
      ],
      "metadata": {
        "colab": {
          "base_uri": "https://localhost:8080/"
        },
        "id": "3Dp2dw2Meg9g",
        "outputId": "408db513-34c0-48e7-af09-55208ff0b2b0",
        "collapsed": true
      },
      "execution_count": null,
      "outputs": [
        {
          "output_type": "execute_result",
          "data": {
            "text/plain": [
              "array([-3.32457934, -3.9429564 , -4.1630525 ,  5.88082324,  6.6890781 ])"
            ]
          },
          "metadata": {},
          "execution_count": 188
        }
      ]
    },
    {
      "cell_type": "markdown",
      "source": [
        "## Предсказание целевых классов."
      ],
      "metadata": {
        "id": "NKrrI1zlk0eW"
      }
    },
    {
      "cell_type": "code",
      "source": [
        "def predict_classes(x, w):\n",
        "    '''\n",
        "    Возвращает массив предсказаний в виде класса.\n",
        "    При получении результата >= 0.5 относит элемент к 1 классу,\n",
        "    иначе к 0.\n",
        "    '''\n",
        "    # Линейная комбинация весов и признаков\n",
        "    z = x @ w\n",
        "    # Преобразую вероятности с помощью сигмоиды\n",
        "    probabilities = sigm(z)\n",
        "    # Преобразую вероятности в классы по порогу\n",
        "    return (probabilities >= 0.5) * 1"
      ],
      "metadata": {
        "id": "TSBNBvdTB4s-"
      },
      "execution_count": null,
      "outputs": []
    },
    {
      "cell_type": "markdown",
      "source": [
        "### Результаты"
      ],
      "metadata": {
        "id": "jXGSkTlXlJuP"
      }
    },
    {
      "cell_type": "code",
      "source": [
        "y_pred_classes = predict_classes(x_test, log_model(x_train,y_train,lr,epoch))\n",
        "y_pred_classes"
      ],
      "metadata": {
        "colab": {
          "base_uri": "https://localhost:8080/"
        },
        "id": "SodTmu2Xgn7d",
        "outputId": "8c2516a0-4754-4063-d990-41d0a523a3b5"
      },
      "execution_count": null,
      "outputs": [
        {
          "output_type": "execute_result",
          "data": {
            "text/plain": [
              "array([1, 1, 1, 1, 1, 0, 0, 1, 1, 1, 1, 0, 1, 1, 1, 0, 0, 0, 1, 0])"
            ]
          },
          "metadata": {},
          "execution_count": 190
        }
      ]
    },
    {
      "cell_type": "code",
      "source": [
        "y_test"
      ],
      "metadata": {
        "colab": {
          "base_uri": "https://localhost:8080/"
        },
        "id": "9gz-6GW_g7M3",
        "outputId": "c446d5eb-7f0b-48d9-a2d8-a7cc4c4555a2"
      },
      "execution_count": null,
      "outputs": [
        {
          "output_type": "execute_result",
          "data": {
            "text/plain": [
              "array([1, 1, 0, 1, 1, 0, 0, 1, 1, 1, 1, 0, 1, 1, 1, 0, 0, 0, 1, 0])"
            ]
          },
          "metadata": {},
          "execution_count": 191
        }
      ]
    },
    {
      "cell_type": "markdown",
      "source": [
        "## Оценка качества модели"
      ],
      "metadata": {
        "id": "WtjBOCFXlQRU"
      }
    },
    {
      "cell_type": "code",
      "source": [
        "from sklearn.metrics import accuracy_score"
      ],
      "metadata": {
        "id": "4LFw6bHNiKkz"
      },
      "execution_count": null,
      "outputs": []
    },
    {
      "cell_type": "code",
      "source": [
        "accuracy_score(y_test, y_pred_classes)"
      ],
      "metadata": {
        "colab": {
          "base_uri": "https://localhost:8080/"
        },
        "id": "LoAZ1emzgXyE",
        "outputId": "59e41131-d600-44d0-ba9e-b0ae5a8a3106"
      },
      "execution_count": null,
      "outputs": [
        {
          "output_type": "execute_result",
          "data": {
            "text/plain": [
              "0.95"
            ]
          },
          "metadata": {},
          "execution_count": 193
        }
      ]
    },
    {
      "cell_type": "markdown",
      "source": [
        "#Метод скользящего среднего (Root Mean Square Propagation, RMSProp)."
      ],
      "metadata": {
        "id": "2psNtExvmC1I"
      }
    },
    {
      "cell_type": "markdown",
      "source": [
        "![image.png](data:image/png;base64,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)"
      ],
      "metadata": {
        "id": "LYRRHOP0eKps"
      }
    },
    {
      "cell_type": "code",
      "source": [
        "def log_model_RMSProp(x_train, y_train, lr, epoch, beta=0.9, stop_loss = None, print_res=False):\n",
        "    \"\"\"\n",
        "    Реализация RMSprop для обучения модели.\n",
        "    x_train, y_train - тренировочные данные\n",
        "    lr-Скорость обучения.\n",
        "    beta-Коэффициент скользящего среднего (По умолчанию 0.9).\n",
        "    epoch-количество итераций,\n",
        "    stop_loss - ошибка для остановки, по умолчанию None\n",
        "    print_res-если True выводит промежуточный результат ошибки каждые 100 итераций\n",
        "    по умолчанию False.\n",
        "    \"\"\"\n",
        "\n",
        "    w = np.zeros(x_train.shape[1])\n",
        "    s = np.zeros(x_train.shape[1])\n",
        "\n",
        "    def sigm(z):#сигмоида\n",
        "        return 1 / (1 + np.exp(-z))\n",
        "\n",
        "    def L(y_train, y_pred): #функция ошибки\n",
        "        epsilon = 1e-15\n",
        "        y_pred = np.clip(y_pred, epsilon, 1 - epsilon)\n",
        "        sum_ = 0\n",
        "        for i in range(len(y_train)):\n",
        "            sum_ += y_train[i] * np.log(y_pred[i]) + (1-y_train[i]) * np.log(1-y_pred[i])\n",
        "        return -(sum_  / len(y_pred))\n",
        "\n",
        "    for i in range(epoch): #основной цикл\n",
        "        z = x_train @ w\n",
        "        y_pred = sigm(z)\n",
        "        dw = (y_pred - y_train) @ x_train / len(y_train)\n",
        "        s = beta * s + (1 - beta) * dw**2\n",
        "        w -= lr * dw / (np.sqrt(s) + 1e-8)\n",
        "        current_loss = L(y_train, y_pred)\n",
        "\n",
        "        if print_res and i % 100 == 0: #оценка качества моделей на каждой 100 итерации.Если print_res=True\n",
        "            print(f\"Epoch {i}, Loss: {current_loss}\")\n",
        "\n",
        "        if stop_loss is not None and current_loss <= stop_loss:#остановка при допустимой ошибке\n",
        "            print(f\"Converged at epoch {i}, Loss: {current_loss}\")\n",
        "            return w\n",
        "\n",
        "    return w"
      ],
      "metadata": {
        "id": "8BSVQX1Yi76z"
      },
      "execution_count": null,
      "outputs": []
    },
    {
      "cell_type": "markdown",
      "source": [
        "### Результаты"
      ],
      "metadata": {
        "id": "br37QTk_seAZ"
      }
    },
    {
      "cell_type": "code",
      "source": [
        "y_pred_classes = predict_classes(x_test, log_model_RMSProp(x_train, y_train, lr, epoch))\n",
        "y_pred_classes"
      ],
      "metadata": {
        "colab": {
          "base_uri": "https://localhost:8080/"
        },
        "id": "V_5UD9l8upgW",
        "outputId": "86f6f29e-91a3-44a1-9c39-5e248f5fcbd8",
        "collapsed": true
      },
      "execution_count": null,
      "outputs": [
        {
          "output_type": "execute_result",
          "data": {
            "text/plain": [
              "array([1, 1, 1, 1, 1, 0, 0, 1, 1, 1, 1, 0, 1, 1, 1, 0, 0, 0, 1, 0])"
            ]
          },
          "metadata": {},
          "execution_count": 195
        }
      ]
    },
    {
      "cell_type": "code",
      "source": [
        "y_test"
      ],
      "metadata": {
        "colab": {
          "base_uri": "https://localhost:8080/"
        },
        "id": "EOkD3BDzv3WA",
        "outputId": "3e95ca99-7cd2-49a4-e686-e2dc08fbade5"
      },
      "execution_count": null,
      "outputs": [
        {
          "output_type": "execute_result",
          "data": {
            "text/plain": [
              "array([1, 1, 0, 1, 1, 0, 0, 1, 1, 1, 1, 0, 1, 1, 1, 0, 0, 0, 1, 0])"
            ]
          },
          "metadata": {},
          "execution_count": 196
        }
      ]
    },
    {
      "cell_type": "code",
      "source": [
        "accuracy_score(y_test, y_pred_classes)"
      ],
      "metadata": {
        "colab": {
          "base_uri": "https://localhost:8080/"
        },
        "id": "u5L2z5FIuhtd",
        "outputId": "09158565-cc94-45ba-f5f0-78867d68fe45"
      },
      "execution_count": null,
      "outputs": [
        {
          "output_type": "execute_result",
          "data": {
            "text/plain": [
              "0.95"
            ]
          },
          "metadata": {},
          "execution_count": 197
        }
      ]
    },
    {
      "cell_type": "markdown",
      "source": [
        "# Nesterov–accelerated Adaptive Moment Estimation, Nadam"
      ],
      "metadata": {
        "id": "-hF3e5FNhe3W"
      }
    },
    {
      "cell_type": "markdown",
      "source": [
        "![image.png](data:image/png;base64,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)\n",
        "\n",
        "![image.png](data:image/png;base64,iVBORw0KGgoAAAANSUhEUgAAA7wAAABnCAYAAAAjUk5GAAAAAXNSR0IArs4c6QAAAARnQU1BAACxjwv8YQUAAAAJcEhZcwAAITcAACE3ATNYn3oAACrvSURBVHhe7Z0HuBxV2YAH0d9eELFhISoKoihoUBRjBIEgKhBKAtIChIQmATUEpIQEk1ANUiJFaqQFExSQoCAR0YAoKBILYEFFRRQVjdj5fQ974rDZndm9d8vM7Ps+zzzZuzu5d2fmnO98/awyYsSIxxIRERERERGRivGk2r8iIiIiIiIilUKDV0RERERERCqJBq+IiIiIiIhUEg1eERERERERqSQavCIiIiIiIlJJNHhFRERERESkkmjwioiIiIiISCXR4BUREREREZFKosErIiIiIiIilUSDV0RERERERCqJBq+IiIiIiIhUEg1eERERERERqSQavCIiIiIiIlJJNHhFRERERESkkmjwioiIiIiISCXR4BUREREREZFKosErIiIiIiIilUSDV0RERERERCqJBq+IiIiIiIhUEg1eERERERERqSQavCIiIiIiIlJJNHhFRERERESkkmjwioiIiIiISCXR4BURkY7w7ne/O1m0aFFy8803J7vsskvtXakqW265ZXLTTTcl1157bbLVVlvV3pUy8cIXvjCZO3ducuuttyZz5sypvStV5tJLL01uueWW5KMf/WjtHZHqs+pqq602vfZaRERkSGDwHHrooUGB/vKXv5ycdtpptU+kqvz4xz9OnvOc5yRvfetbk5EjRybLly9PfvCDH9Q+laLzqle9KjnmmGPCs+NZnnjiickf/vCH2qdSVX73u9+FOcux5pprJl/96ldrn4hUl1VGjBjxWO21lBwWLzzuF154YfLXv/619q4UjWc84xnJhAkTkve85z3JS1/60uQpT3lK8thjj4VntmzZsmT+/PnJ0qVLa2cXh3HjxiWPPPJIct1119XeEXmcd77znckRRxyRrLHGGsntt9+efOxjH1MG9Zg3vvGNyfjx44MS+9znPjdZddVVk3//+9/BgCGac8455yS//e1va2d3lunTpydjxoxJ/vKXvyTz5s1LPve5z9U+kaLCOoSBi7H70EMPJbNmzUq+/vWv1z6VXtBPXWD77bdPDjjggPAdWNOPPfbY2ifdoax6j1QHI7wVAWP36KOPTjbffPNk/fXXD0on3nYpFkTBZs+enbzrXe9Knv3sZwcD8pe//GWyyiqrJM961rOSl7/85cmmm26a/N///V/yrW99q/a/+s++++6b7L333snGG2+c/P3vf0/uvvvu2icy6CB7pk2blrziFa9I7rvvvuQTn/jEsAwrDLYRI0Ykv/jFL2rvSB6HHHJIMmXKlGTddddNnvSkJ4X7TxTnaU97WjB+eR+58vOf/7wr9/UnP/lJsuGGG4Zo0Wtf+9rk/vvv9/kVnI9//OPJqFGjgp5w9tlnJ9dff33tk/ZBBrzlLW8JDg/1jtboty5AJgYym/nK80NWoDd2g7LqPVItNHgrAMJq5syZyTrrrBOUnZe85CXJeuutF7xmpicVB4zG/fffP3ne856XfOMb30hmzJiRnHzyySEagnfzgQceSN7whjeEFEEWIZSHIqQHTp48Odltt92Spz/96clTn/rU4FDBM/vd7363doYMMoxjxgSKLtkljO2hQCo0UWLmCFGne+65J/nVr35V+1QaEaN0RFf/8Y9/JFdccUUwfi+++OLkyiuvTC644ILkv2t8svbaawe5g1y54447Or4u/OlPfwryCmfF6quvHtagG264IfnnP/9ZO0OKxMSJE0OEjyyAJUuWJGeccUbtk/bZY489gvFMdhnO0G9/+9u1T6QZRdEFMC5xYr/4xS9O1lprrWCE/uxnP6t92hnKqvdI9dDgLTkYu8cdd1wQFP/5z3+CBx/BgcLx+te/Prnrrrs0egsAAh+j8V//+ldILTzhhBNWioIRHUM5RfjjbSU9dPHixX1VGvneu+66azB0GUd/+9vfQsSI9Em8sSo3gw2KM957FOdvfvOboflNuyDDSK2j/hdHHb8L4xlFXIO3OdHYffvb3x4iqqQVX3XVVSvJC9JUo1IbU51Jce401IDidOV5IruI5JgiWzxwSuDEZCwwv04//fS2MzIYezSlw9DdYostgjMU/QMnqGtCNkXSBfh9rO0bbLBBmK8ve9nLQqS/U3+nrHqPVBO7NJcYjA7SB/He491fuHBhsuOOOyZXX311EDAYvER+UUCkf1Czsu2224bXCxYsSC666KLwuhGkBvIsgYgXaWL94qCDDko+9KEPBcP2pz/9aXL44YeHOh9SFVF4dt9996A4yWCCXMHYZXyQooaSkgcpdBi2KD+XXXZZaG51ySWXJNtss02IAEjrEDkhjZj6y1NPPTXT0MAgBjKAWC+6BWsQ3wejmo7dGFdSLMaOHRvWFuq7ibh973vfq33SHGT9Jz/5yTBX6chN9P7AAw8MpQekpUprFFEXQA7HEqXXvOY1wUDtBGXVe6S6aPCWFIxd0v8QUKSAnHXWWcF7BhjBpLI9+uijIfLLz5wvvSc2aiDqjnJ/5pln1j7JB88rXtd+gLFLAxwaS3znO98JNZoo1ERs2MqAdHkMHRZHzpXeQUOoT33qU313ZO2www6h+QigMH3pS18Kr7NAmdlss82SN7/5zcmrX/3qYORihGEwEyGS1iCq9v73vz/I+PPOO6+tSCo1c92CFEnkBSUPRGowruRxPvjBDybnnntu+LdfMG422mijYKQSaWu1ASFZBJtssklwljCHWRdoNhSNFMmnyLrAV77ylSBLeK6kpg93bSmr3iPVRoO3pOy8885BYcSbjqFb7z2jCQVKMWmoeGH7ucgOMkRhUBKIkKKY5kHzBhadfkJkBmWaKA17bB588MHBAxvh9dSpU0N0gHNolIYBI72BqNmb3vSmkD7aL4jUojjz/FGUWk2RRUmmRuyHP/xhMJDPP//8ZM899wy1p0ScJB+UyZ122ikohWwn0kpH5OiY6AXswfznP/85GFVEaujgLUmoc2fe8m+/QLZjhOCQILLbSnQXqO289957wzynNvywww5LPvKRjyR//OMfa2dIHkXWBb74xS+GcjigHO5973tfeD1Uyqj3SPXR4C0p1O2i6Bx//PFNvbR8TnR30aJFIR1JegtR9dGjRwdFnnTPuKBkQZ1dFPw0AEFx7DUo0TQxYXN6UpgbbS9DdIAMA84hakFURwYHUpmjEcVYoH63Fb7//e+Hel0yA6j/w/PPe9I6lK3g7Pj1r38dUojzwEAm2hohI6ibUAMYa6+J4NOZVfoPjjIckzgi6MVw55131j7Jhy2LqNmlIRo6BxFBaZ2i6wKs8fR7IcvmyU9+cojoIzeGQln1Hqk+GrwlBQHFwpO3YTifc14jo0W6C970F73oRSGiRQ1LK5CiHnnwwQeTr33ta7WfessXvvCFUBeYNW74jHM4VwYLlGcUFCJFP/rRj1pSaqQzkFrKvb/11ltbitC94x3vCE1hAIWW59Vt+F78LdLVaYgzVOVZOgdGzPOf//zwuh0nlQyfMugCdG+PhibNqyg9GQpl1nuk2mjwinQBFDwUDEAxbcXhQO1MjJrRobAbnVRFhgsRu1e+8pXhNZEit6fqHbG+jlTSVpVCnBOxJo69eXsRnWNbEVLdAeV3qMqzdA4cD0TvQCdV7yiLLkCJ0u9///vwmu88lDIl9R4pMhq8Il2AqAppOg8//HAQ/K1Ap1rqq4A0T/bSFElD53W2bugnfIfY+IiIQLq+W7oLNaDce7YAaqVRFcYuDgoirXTup4EMjaW6Dd+PvXmBLWvWXXfd8HqQiVH2fsF6BBgVGru9oyy6AMYptdpA2jsNT9tFvUeKjAZvAaHRB00hqJ9k25dmHfN4n03fOY+D/5PVIITuiuPGjUuOPvrocP6RRx4ZvGvSedhTDsX0N7/5TUsKJp2OUWaBdDOa+bTiHW0XPLBsNdTK8990001XjEMOtqZgDDUD5ZotZ+L5WWNXhgbPL0Zp+gWKUKy3QrHphQElj/O6170upJHfc889tXeaw1zde++9Q/0u/4eURZoZ9gIUV6LJgLFN48ThUL92TZo0KVMWFREM/37CvrvAuoJDQnpDUXWBRrDlYGwe+IIXvCB529veFl63SpmuNU1a1+Fft0WqJqv8dyF6rPZaCgDd7TBIUGwjFPGzVxobxAOTceLEiaHbY1Q8I7Gmbu7cuSv2ZaSJwD777BMMEraSScP5NBhhW6NWtyiQfE477bTQxZbGYXTRpskPz5XaGCJ0dLfF006EDMUQhZBnyUJx0kkn5dZmDwWMTxRGInRx70SeP90358yZs6IeEEOV/fOo94rnRWh4Q81uugkaThca6aCA1p/PthWkUM6ePbsvC1nVYA6zKKNUUJtPd81eQ6OyWHNFR166tQ4XDBjGUZRnKD/HHHOMxnQKUgxpQsi2HcxX9kKlgzrpwkQPeR9YL5ApzMWYKnj77beHccN97RU8P7q9A5Ejvmu7kcW4drHfcH1mA2ndbL9Hx2+aoHH97FawdOnS2hnFggZtI0eOTD7/+c+HppO9hppdxgTrPXuqD7dZXJRF0fHAenbhhRcGXUL+RxF1gWawmwfbDuKcoSQBnZMO+q1SpmtFx2bd4TvSXC+tu/Ad0VvY6QSnIU0C+ZnxLeVl1f8ulNNrr6XPsFE3E5AIDkbF/fffHwQCRmqs28Ljxj6ca621VlBe2Nrj8ssvDwKDujqECp45ojAoi6SY0E2XyABCZsmSJcF4xiim/TypJBwoUyglNBqQ4cGWLUQjeG48R4Q8XsP4LIl4AO+zsKy++urhNYrIUUcdldx2223h807DuGExuu+++4JiyHjh2WPYkobEmECRZksCviO1mYwtFiGiAyg2KJWMJb4viuaMGTOCscu4I+rE4kiXVgzpNddcM1wv22ex4N144421byJDBQMGOcF9JaUVZ0UvQckdM2ZM8sxnPjM0JcKQamcP2Gbwe5FBjCtYvnx5kFWx268kyahRo0J6MooiiiVbE5F1gbHLmoHCxsHrKNf5mZo4DJxebyGDY42ID88UeUBdbzvp73QEnjJlSpAfXAfyZv78+SFVEpnJXMAgZj6w3vEzMpZdCYrI1ltvHWQichZHUa/BmQ4PPPBARyL9URYhCwB5wJoRHe1SXF2gGRh+ZAliDPI96ATfqnwv07Vi5OKERz9Gd0GXxhHFwThmmyScuoxvdCZ0H/QevqslPOXFlOYCQS0DAgcBg+Fx7bXXrlBSUF7wlLFoodCQ+oE3jvOI8pxyyinh35iOgpBhf0uUBhSiq6++OkTtiPAhjM4555zks5/97IrGIvzd9773veF1v8CoJ8UWg6sXB5vwdyMtjhQd7jl7IGNc4kQgVQilrx4ioI888kh4TXOX7bbbLrzuNNxXnCXU1bGN0CWXXBJSHAFlEsWUMYTRgWK6//77J/vtt184D28tEYlofLB4MVZYMFgQWBRRqFG+ibgwvjCu+T3A73c/zmrAfCG6DMiaWKcp3QeFC+WMKCnZEsgVZEw9yBkyMYj0AnMaBa/X0ACHumFAZsQOwXmgbM+cOTMoz4w1rpXIChkAyCMOMpxwtmBsIWsjvTbqywiOb+kNRdQFsmAtpxEhYKDGNPhWKMu1jh8/PugnOJ8wbmnWtddee4WsSHSXqVOnBt2Y9Y1z0F8gZs5IeTHCWxAwBnbYYYcwqT7zmc8EpQYjhP3MUBYAYRLTTIjQ1UOtFkYNKSJ4ztj4G+OYyXvyySeHNI00KBPRm8ek5vN+esdJ+eIeYET14iAVkFSVa665pvYNOgPGNEomEU8MQO4r6eI4MtivlsgVB9FQDEkWBSJcPAeirgjaTne+RaDTOIbOrowv4F4TeQXGGJ1cyQog9ZAoQBoWMbYbiCmSLIR4QakFmzZtWsN9eOkKGhtfsHiyCb0dfYdHvyO8yCOcF8gXZBVOtk58ByO8+WDwERUhtY4oGnKD9HJSU0nj5X6RRUH0DuUNJylRVqIpOECXLVvW05RmZBnrS0xTJ7LZSvSP/Zlx0DEWkJ1kJLE2pOF95CQpwjGVG+WV6G8nMg66QT8jvMwtHOSAjO/E3zfCm08RdYEscGCOHTt2hROJHg0EXlqhDNe6/fbbB0d+7FqP058odL2jDFlJNg3ZkhG+77x582o/SRkxwlsQWLgxIphUcbsJUkTiYg54xa688soQcWsE3v80eNboylmvLEQQMCxSkWhY9wuED8pzrw4EM1GCToORhwOhPj0cxRQDIR6xPvGmm25aUT/L8958883DItApGEcovvVbyKSFOeCVxTHSrNY2PT4wYB966KHkjDPOaJriw/iKcD6Kt5QbHGjSe1AMKTtgbtY3HEKhjDKFcoI4Hyl3iQYu5SsYXL2ECG+UJRi9OGTzIPpCA5no+EAmkc3UCNZJFPIIDhjSnmVl0nqE9I6i6QKtkJ5TONhapejXSgYhWZLR2MW4J8DTSN/hPXTENMgiKTcavAWBWiSEBd7fCB7U6B2Hu+66K3jOmoFwSiuk1AA3igRH0umJQBpcPznxxBOTXXbZpWcHwi9GOzsFxiXKJZH4mNLbChjfeESBKADexSyItiKsqeXLg33xGBtEae++++7wHpkApLFHePY4UpoZryxERIwifFcWr6xoSowGA6mNjdIviw5zhGgZtT14rwcdxlGUSSgFcd9G6S4oayhq3G9S8FoBRTNmauBwit1QsyACgqFM34fhUu9QzYNrpC45OsZiw7tGCingxEsryDGVUlYmGi7Ibedsb+iVLtDJOQuNUpDzKMO10vwuZrQBuhC/qxmkWkdwppGhVgY6PR6qhAZvQUDIUB+QTg2NnVABQUJ6SLPFHzg/KqMoG6S5ZRXY45FLe35pfJUHSgkpc9Q6xBQp+R+xjgXvYTtbPxDZj4KfZ0JTsjQodkQ+aONPDRsdehHeMRKSBWMCgY0zBSUYqAeMnk4gMtIscwBo7hDTnODBBx8MdeHNiAtghOgy9UF50BGRFCrqiXvt2Y4QTcMhQvR6wYIFIS0TR5LRzSeCMZOO4kv3iPW7NBbMWgPqSaeE47BibKfBoUMvA8oSFi5cGNL7mOcYyJ0mL8ODEou0k4z1kM7CzcDgTdcYcn6Ub2mYv5T10ICP14NOO04IGTrd0gV6OWfJ6mItz6Po18rvoPkUQSVAH4o9TBqBbMEAjyBzGxm8RdCHezkeyo53pCDgfSLlLHqciMClU07zvNcYB2nvFRG7GM1rBgZvNJgQOq1sGUHaCbXFeL+of5UnQkdRFFMiK42Ur2bwrOOzqE//ozYGZwdGLttvsCi0I8xQ9nhuNGOIUNMXnR0oQHneS64rbYDiSMkaL3EBjDB+82q7+P0IbgQ4f69+8esFKMXU6dDsjRrktEOo01CrSFoXXbBbPXAEEK3BeGCBa3RO1vHpT3+6b46EIkBjNco8Gt2bTh48V55vp2AukCVBRKQd0nOQbB7mVoQdAa666qqw1RF1e6RMR4WwG6S/Sz0o1SikaQce612WDKXuL5ZZ4DBupmjjKKSfBQoscmW4oNiS3dLouWcdMUOELueNPs86yDChXnYQKeuc7YYu0Os5y/xKy4xmFP1ayYhLZ6iR5RBTqxvB9aSdaZwfSw3T9Fsf7vV4KDsavAWlPgKHpz5LkBCBi2lLQCfGLOWo3oPF+XkGMmAkx4hhfa2GNK9jyYPGH82MWLygNNaiIzfdk+lYGrufDpV09kArtW/xuQNRPb5TFjTIihEdlFGU17zIVHoMN4vWdBuauRDZxUvK/rKm/0m/yarfzSPLuRGzOuiITEd/jLh+QdlFWrHGAZtn3EdZC2SQNHMIx/OaRWlEukE3dIEizdk0Rb5WnGnou1FWQJ5hntZfoFmmZNSL+qUPF3U8FBUN3oIy3AgcqW9ZETiUqLSBzLl53S35/TG9Jc+gHkRiGm+7dSyAshcNSpQ9GkJFaOxAfTOCLcsr2SrDzR5o5fqoSY8LGcronXfeGV5nQRSGv5UVrek2GLvUyVM7GFOtugVeWaI2eJ9bPQ499NBghPMMcIA0OifrmDx5clspsVWDngZ45Rvdm04ePFeebycYSv0uMJfS85ysn3SXZqJaNKkjHa8XzqWsGn4ccOmmi3zXrO/E+pXe5qjZepSWdc2iNO3C/SLrptFzzzpiudLixYsbfp51sGUhEchBpIxztlu6QK/nLHX0eZ3di36tGK/pfiU47PN013QWHd+rkTFbBH241+Oh7GjwFpT6CFye9yh6moAJnWcwkHIaDWqiha20g0/XcVLv22grmkFmqHUsEAUnsMh0czuW+uyBvGhqffYALfyzFjb26E3X77JgZtXiRWINela0RooDCkE6BVW6w1Drd9k+Kp2Wl2dEdhsU4mbgUEtHYPKM0/r63WbrUVrWZfWzGCSaRdSkc5RFF8iDv59X6lb0a8V4TZcm5Rnm9dmPyM1GGXDqw+VDyVdAGkXgstKN243AEX0jmhZhA/BWInAxikzEOd1NulOwGTgNmXp1UNtKk6ROEetY8tLP66EzIXvaRnje3dyPrj57IO9ZDiV7ICqZRGv5/XmLZnoM54136R8YIjHyzTNLO0KkO8T63XadQBi86bq1VsoKOgnOkFaNq7QDDvIU3/r63WYO4XgeTuNurFllgXkLOBSds92nLLpAI9KOp1Yo+rXiGEs7ZtF3s0qyuJ60M43v1aj/SNSLuqUPS+fR4C0g3Y7AoQg1S2dmAtPYhkJ4OtXyL3vVctBYiwUTJWbHHXcM7xG561T78w033DAY4r06iIpTO9Yp+H0IVhSwdqBzaBSwCE88hXkG4nDoZvYA44cmDlHRrU9nZisoGnBRc0J67q233hrGEak5pG4CnVqpU+Z9Oja7HVBxYHxK74j1u9DOvWce8n+jokfKHfOpl7DG8D2gPl2xHqI7Ea6TLvBZIJOiYo6MiQonaak0OOJaOWgwxXk4+Ohwz3ukhU+cODGcPyjYTb23lEUXaES6VCA6SrIo+rUiW9LfDYM3S5+ur9+NjkIiv73Uh6XzaPAWkG5H4BA00TuOIpKuC8XrhjHIJMbQxhCmEB4jJQo/PF7XX399eJ9mSnm1v61Ch8QjjzwyOeaYY3py8Pc61ZUxnQbTjoeUaDtGdzQQ2bqH1vLdotvZA9S2pdOUuJ50I4WRI0eGBXX58uVhn+g4jhiDKGWMdwxk3ouHqULFIb2NBIt92kMvnSeduhtlRCuggMUu5yh7zCGUtV5CV+goC/P24U5HnpEDpEc2o16GYczHdGWU2SVLlgS5ccMNN4R0RKBJTZQnrFk42gaJ9Bqf3vpJOk9ZdIFGsHZH3RCy5iyU4VrRNdArIsiLLNC/4/dirYu6NI61XurD0nlaX0GlZ3QzAofXv36vw3QjlFGjRoXoMgoEWyTRLAnjkO61cR9SlN5omM6YMSNE5zoBfzMKjl4cXF9eQ4ZWSafBEJFJG31Z7LTTTivqXfFEEtGkSVW36Hb2AN7R2HwmGq9RmcXRwucoobxPE67ofOAcvMSMdxTV+D5NpKQ4sMjH58nzimNeukNMyUW+px1PWZApgeMpOk2RcZRw9BrkRlwzUBaz9uFmTUkrpc3AAcc2NWmZRP1cNOhIPaTxELIDORXXxWXLlq2QKbNmzeqqjC069enj0lnKogs0gr8f1290yaysDCjDtdLwNe1Qy4JdMNZff/3aT8kT+h6gn/ZSH5bOo8FbMOq7T7YbgWOCZp1PVzw87xGiwVHQ8LdJH+V34CVPY71CNuk0GO4xez/mgXDlPLyJCH32WjznnHNqn3aHdO1bK8+yPnsAoZ+VPcAiFj29RINRNCM0s6JbIn8Tx0YkPYbzxrv0F2RFjJoxbtl/ULpHOnWXqAhHFswlttMiSgEorDiNOtHdvV3SHVhjRkcziIrgTAMUSf5vPVzb4YcfHkpy4j0het3MwWv9bmOo6yYyJ92hLLpAI5DnbBUEfI+8WvoyXCsO9PQuJ+lSizTjx49PdthhhydEuHHwNmqepz5cTjR4C0bcgiKSt18Yi3/sFAcYDFlbV8S00UgUaEzeCRMmhFSxRulvMYrcSsR5EInpgyh13CdSCtnqoBHc66OOOirZddddg3DF+zh//vzkhBNOqJ3RPfieaYM0K1oLeGyj0kp6T17jHMZXBCU3RnW23377cD9IJ6ofW+kocl7EWfoLY5WIWqSRYdIuKD8o4LHeFHDKjR49OjjhBpXo/MTBwLwggoKy2OyeYwzPmzcvlA0wx3FmHn/88SH9rh+koz3IgSxHGQbvLbfcEuQH3510x7T8ZJ079dRTky233PIJ4ySro3t0FjBm3X/3cfkNGDTDTWtmvjI/085zngvvb7HFFg0NikGhLLpAI9A/o8GXLhVoRlmu9eqrrw7lDoBzPd2sFHmKI+3AAw9cKfuh2fWrD5cTDd6Ckd6PkMU/b2+vddZZ5wmLDkoFgqQZeKvSHerwgmOMnH766UFRwlvO6zQIKiNwzYl1LAg/vJUoYAhR0ltQOGmcQooh95l0Ogy+D3zgAyGSwUJx9NFHB0W12xC9jw1wgGeZ1xUxNpICxtW9995b+6kxRJK4D8C42WCDDUJzKhR1Uiyp0yGVPE073lKU3tg0YjgHCyDbKUj7ICOiYwODrF2j9PLLL3/Cs2CO4PSIdVPAeBg3blyYF+lzSR0bFJArpAsS+aSJG4Yvht95552XTJkyJcgUjj333DM566yzkjPPPDP8H+plMSAnTZrUt/Q6vkess21lHQP2k+QZE7VFfjIukJVkgxClZr6iXKbre1HKG/3udKYUDbA6sf9u2YmZGcwtZG47MO/S85DxyPzkd0WYv8xjUsoZd/Fc5vugUBZdoBn0ZIgOpXSpQCPKdK3sU7tgwYLwXTG2d9ttt6CH8J04xo4dG/QbvlcEB1EjY5Yx36o+jPOHPf3Tc2coB82wpk2bVvutMlQ0eAtGrLsCvPp4vbNIK4lE7JYuXVr7qTFM6ksvvXRF7SpGEBOJzrrUVbKw1Xu1jMBlg/KAYorwo4aMe4iA4lkSvcKreeyxx4b7zAb6pJQRccB4I4WmV0opqUdxvKCE3nHHHZlRFwR7enzxnUkPyoJFBeWS348jZt9990123nnn8FlUyutpx1t68MEHB8fMcA8W3l5v91AVWOCj8oxHPO0UaReeOTIp64jG9aARU3KRx5dddlmoHyMjB6WSbufIFI4DDjggdLjHUETukNKMQdyp/gRDIcpEYKy04iTlWdNJGeOWzCZAoeb3oIgiL6+88soVEShotv9ldBZAlowbJGLna2Rtq7WWjWA+1s/R+oN5PYiURRdoRNqQa7XcqUzXyu4jbH1JWQ7jk8xIMh2I/GL0fvjDH35C9ghyq9n+u63qwxjV3ItGOkg7x0YbbZTMmTOn9ltlqKwyYsSI9nqJS1dBmWE7IIyFG2+8MdeARUih/FA7iTeOZkytwP/bbrvtgrGBJwsvUrquMg2Rgj322CMIAxoN9SvdpqhMnTo1eDExIPfbb7/au49HR/HwxeYM3GeELc90OMpofB4oLjw3oqetgseV6AcphuxDjHKSxcYbb5xsttlmQfjT+KbV700kippdxhl/C8HfKD2Iz88///xwr1DmSS0qikOF+8SCzZzkumlK0Y9ayDTxOyEf8KK3Ot87zcUXXxyySzCy2AamU93O5X9wj1Eq+TcdCaH52yabbBLmDhDxvO2224bdHRSFdZtttgmvidgcd9xx4fVQiDIRhxlKIxGVToASjbOKVGWU8mbrUTyPGsGzzz47ueiii2qf9A+cfSivw723QyX9THAgkHmjM6Cz9FoX6OScZb3GOMWIRaZgYGU5uMt8rY1AXuAsjDXMzeRWkfXhbt+jsmOEt2AgEObOnRsGap6xCxgsFPyTRtKO8sv/w+BBiedvNTN2oVkEjj0P+dsIvUEm1rHU14lh4OFV5B7H+4wQGo7Qryddv90KjBHGCs8tz9gFxiDfmzHZzvfG44tBxnVzD5rVwmR5S1Fai7KYYFzE7ylJMLBIncXwoPP3cCJGsjIxJZc5Wl9GgGEb5xbHKaecMmxjt57hNiOjnhjDijHCWOkUsS4XsjJC4nncv7RcJg0X2YfTYNBgjMTGYDjxiBpJZ+mnLjDcOUuWSKxh5fvnZXOV+VobkW7ABc2cQWXRh20ouTIavJIJin5Mc6mvlyJNhZqPdBObQSNdx9Io/aXbpFOOywgRLMZYfbdVFg+iWHiHiwD3OZ3uNOiQjha3rFB57jwxJZd0wawmhN1iOGOdxlKxKRJjpFOpi+wRn1bimtXPpet3011WkTOsWTgJ030sBgUM3tikkD4h9FeQztFvXWA4c5a5wXY8rHNkReQ50Mp8rc3AcRv1Ka6rUUp3mfRh9ZWV0eCVTBBssSlWul4KLxbpWQjGTkcXykS6jiWvg7GszBprrBG8peluqywq1Piw8C5atCi8J49DSjVbhlEr1Q9FI0KKGlF80krxiuOckM4R63fzmhAWkbiXO2ODMcJYaQalD6QbYxRfc801odFNM9JrERBZalT+gAMmnpfOLKG5F+mWZDP1I5V38eLFYf5yT/oFsgNFneh3K9tcSeuUWReg1Clm6TA3aLSURRmuFT1i5syZoTSQ44gjjqh9sjI4ydINPR9++OHQ06Ye9eFys+pqq602vfZaZCVIgUIY4hVHuGGAUCMwceLEEJGjnrAoUbh+sO222wbPKJ6+Cy64oPZuZ2Ehoo3+mDFjQuQTwUp6LUoLnnq6l1Jry2comq10RC0KpBFFpYsmUtT7sjDRRO3cc88NC1Uv2X333UPHRu4l9xQFGU8pnl+iVjR547P11lsv1E/3AyJ+1M0yH/sJSgFjkWYkKD8oAM32RJX2QL6yZzUGSrfqxpl3++yzT6jd4yDiF1MaUeqYgzgyMGAh3cG0GSiONKnj/1OTT91qs1RG5BplC9SC4/Ti/7DO0FG1HuYh9yR2fsZoo/tvI6cPY5GUZWrxaH5F/wDkJ+nMRHtJAe8HRIyuvfbavhoI3C/WC+49BkHs6C3Dpxe6QDfmLLAlD042IptXXHFFcvPNN9c+aUwZrpV6ZHQmHLI00sKgJQW5kbOLGmT+HjoVjjqun/tQT9H04W6Nh6pihFcyIbrAxKeJASkfKAyHHXZYEHRM7rJFHzpNszqWTkLEgsZRCFoOlL9Yx4YwR7mLn5Vtqx0a8hDxIJo1efLk0C2RhZQaIBpC9Br2/4z3ktco4oDRi2IeP4sLyCBD5A7DmwUeoxflQoZPVv1uJyH9jvRjxnM6DRkwGnHs8BnPlbHfCjiLyNpgTDA2sqK7KGMxPTBCVkc9GGY0kxkxYkT4mS7BKKTIikbgIGDbMZR3ZCM7Hey1114hamXDxSTIVfolINPooYDSLMOnF7pAN+bs+PHjw1wE5is7LeRRhmvlmtJpvciNRvKFpp90Uo7pzBiu6CWNKJo+3I3xUGXs0iwtgZFFDRWRRZSNfnerLQJ4yWmxj7ePPSRRsmRosOCQ3oj39aabbupogwvpHhgjbJdDpHf58uVhD+9+OCqqxE477RQiLmQ7TJgwoTRORTqz0rkVRYv1ASM167ujiKEsMoaAc9mSKB1ZIcuCe7H22msHJx9KK/KBVMW8+0L64ejRo8NrIuVup/c/UPLZ3YE9UYmAE2mXoVNWXYC5h3OZTCvq7dlDOS/iX5ZrJQMEvRUa7SZAIIFtDjEKcWxzDgY8TrG8sgP14XKiwSsyRGIbe7x9RdpOR6SXsPjTiROjhIgkWyM068ot+cQtdYgeIF/KAErw7NmzQwdTnFWzZs3KVZzTzhKMWaIvpMUTmSUyg0JKWjKfoYzye9lDnt0FZPhMnz49RH6io0FH1dApqy6ArNl6662DI4l51Wif/HrKcq3RqUP2GNdHAzu+M2Co4piLEWDmAI40jN08R5qUF2t4RYYINS/sNce2GzRcERlEqGXCUGFbC1KsmBdE1Aa5tn84xFqyftd7tsMhhxwSOnVTW8vWHFnb3EUYH4wTrpVoEQYwiigHP6OMkjVAuiCGLlFd9vyUzkDjO9I+SRUnPZP6vkHsXt0JyqgL0GiJbBKim8zXk046qfZJNmW5VnpssC4hT3CcYeDSA4Cf6X2Cg40af7ZfwkFHPa5rVrUxwisiIsNmq622Sg466KBQf0pHWiJIUn1iJOXRRx9N5s2bZ6SwRJCdQZSO3g84V8zOGAyobac5JMbfddddF+pPRaqOEV4RERk2KMx0wSRCSRdrUlOzmhZJ+aFRyqRJk0Jkl7q+Rh2WpbiQnUEnfFLRmbcYQES8pNqQukvJwMKFC0MpgsggYIRXREREREREKonbEomIiIiIiEgl0eAVERERERGRSqLBKyIiIiIiIpVEg1dEREREREQqiQaviIiIiIiIVBINXhEREREREakkGrwiIiIiIiJSSTR4RUREREREpJJo8IqIiIiIiEgl0eAVERERERGRSqLBKyIiIiIiIpVEg1dEREREREQqiQaviIiIiIiIVBINXhEREREREakkGrwiIiIiIiJSSTR4RUREREREpJJo8IqIiIiIiEgl0eAVERERERGRSqLBKyIiIiIiIpVEg1dEREREREQqiQaviIiIiIiIVBINXhEREREREakkGrwiIiIiIiJSSTR4RUREREREpJJo8IqIiIiIiEgl0eAVERERERGRSqLBKyIiIiIiIpVEg1dEREREREQqiQaviIiIiIiIVBINXhEREREREakkGrwiIiIiIiJSSTR4RUREREREpJJo8IqIiIiIiEgl0eAVERERERGRCpIk/w8DGdDETleRFAAAAABJRU5ErkJggg==)\n",
        "\n",
        "![image.png](data:image/png;base64,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)"
      ],
      "metadata": {
        "id": "G4RtjIixjDUY"
      }
    },
    {
      "cell_type": "code",
      "source": [
        "def log_model_nadam(x_train, y_train, lr=0.001,epoch=1000, beta1=0.9, beta2=0.999,print_res=False):\n",
        "    \"\"\"\n",
        "    Реализация Nadam для обучения модели.\n",
        "    x_train, y_train - тренировочные данные\n",
        "    lr-Скорость обучения.\n",
        "    beta-Коэффициент скользящего среднего (По умолчанию 0.9).\n",
        "    epoch-количество итераций,\n",
        "    stop_loss - ошибка для остановки, по умолчанию None\n",
        "    print_res-если True выводит промежуточный результат ошибки каждые 100 итераций\n",
        "    по умолчанию False.\n",
        "    \"\"\"\n",
        "\n",
        "    w = np.zeros(x_train.shape[1])  # Инициализация весов\n",
        "    m, v = np.zeros_like(w), np.zeros_like(w) #Моменты\n",
        "\n",
        "    def L(y_train, y_pred): #Функция ошибки\n",
        "        epsilon = 1e-15\n",
        "        y_pred = np.clip(y_pred, epsilon, 1 - epsilon)\n",
        "        sum_ = 0\n",
        "        for i in range(len(y_train)):\n",
        "            sum_ += y_train[i] * np.log(y_pred[i]) + (1-y_train[i]) * np.log(1-y_pred[i])\n",
        "        return -(sum_  / len(y_pred))\n",
        "\n",
        "    for i in range(1, epoch + 1):\n",
        "        z = x_train @ w\n",
        "        y_pred = 1 / (1 + np.exp(-z))  # Сигмоида\n",
        "        grad = (y_pred - y_train) @ x_train / len(y_train)  # Градиент\n",
        "\n",
        "        # Обновление моментов\n",
        "        m = beta1 * m + (1 - beta1) * grad\n",
        "        v = beta2 * v + (1 - beta2) * (grad**2)\n",
        "\n",
        "        # Смещения моментов\n",
        "        m_hat = m / (1 - beta1**i)\n",
        "        v_hat = v / (1 - beta2**i)\n",
        "\n",
        "        m_hat_nesterov = beta1 * m_hat + (1 - beta1) * grad\n",
        "\n",
        "        # Обновление весов\n",
        "        w -= lr * m_hat_nesterov / (np.sqrt(v_hat) + 1e-8)\n",
        "\n",
        "        current_loss = L(y_train, y_pred)\n",
        "        if print_res and i % 100 == 0: #оценка качества моделей на каждой 100 итерации.Если print_res=True\n",
        "            print(f\"Epoch {i}, Loss: {current_loss}\")\n",
        "\n",
        "    return w"
      ],
      "metadata": {
        "id": "-yBFk3G2xH98"
      },
      "execution_count": null,
      "outputs": []
    },
    {
      "cell_type": "markdown",
      "source": [
        "### Результаты"
      ],
      "metadata": {
        "id": "fLT_YGM1slSN"
      }
    },
    {
      "cell_type": "code",
      "source": [
        "log_model_nadam(x_train, y_train, lr=0.001, beta1=0.9,epoch=5000, beta2=0.999, print_res=True)"
      ],
      "metadata": {
        "colab": {
          "base_uri": "https://localhost:8080/"
        },
        "id": "F79E6PhixKn3",
        "outputId": "f7268a9f-a6d0-469c-9219-206ca0bfc44d",
        "collapsed": true
      },
      "execution_count": null,
      "outputs": [
        {
          "output_type": "stream",
          "name": "stdout",
          "text": [
            "Epoch 100, Loss: 0.6572737336501615\n",
            "Epoch 200, Loss: 0.6236813580981495\n",
            "Epoch 300, Loss: 0.5926013850236884\n",
            "Epoch 400, Loss: 0.5638523031998053\n",
            "Epoch 500, Loss: 0.5372534096165185\n",
            "Epoch 600, Loss: 0.5126294657337841\n",
            "Epoch 700, Loss: 0.4898138480134732\n",
            "Epoch 800, Loss: 0.46865048028709577\n",
            "Epoch 900, Loss: 0.4489948063233576\n",
            "Epoch 1000, Loss: 0.4307140580767655\n",
            "Epoch 1100, Loss: 0.41368704094174935\n",
            "Epoch 1200, Loss: 0.3978036108732018\n",
            "Epoch 1300, Loss: 0.3829639728198004\n",
            "Epoch 1400, Loss: 0.3690778915765642\n",
            "Epoch 1500, Loss: 0.35606387639719317\n",
            "Epoch 1600, Loss: 0.3438483788217851\n",
            "Epoch 1700, Loss: 0.33236502769777443\n",
            "Epoch 1800, Loss: 0.32155391475619227\n",
            "Epoch 1900, Loss: 0.31136116752179943\n",
            "Epoch 2000, Loss: 0.3017384055880886\n",
            "Epoch 2100, Loss: 0.29264045998091237\n",
            "Epoch 2200, Loss: 0.28402730627245587\n",
            "Epoch 2300, Loss: 0.27586265660399345\n",
            "Epoch 2400, Loss: 0.2681135695486564\n",
            "Epoch 2500, Loss: 0.2607506360131621\n",
            "Epoch 2600, Loss: 0.2537462366661991\n",
            "Epoch 2700, Loss: 0.24707523993139419\n",
            "Epoch 2800, Loss: 0.24071499496974663\n",
            "Epoch 2900, Loss: 0.23464479877256528\n",
            "Epoch 3000, Loss: 0.2288458197589333\n",
            "Epoch 3100, Loss: 0.2233010047322154\n",
            "Epoch 3200, Loss: 0.21799393973868036\n",
            "Epoch 3300, Loss: 0.21290992718918939\n",
            "Epoch 3400, Loss: 0.20803549395818816\n",
            "Epoch 3500, Loss: 0.20335822265040093\n",
            "Epoch 3600, Loss: 0.19886705189215237\n",
            "Epoch 3700, Loss: 0.19455105020702373\n",
            "Epoch 3800, Loss: 0.19040028849963775\n",
            "Epoch 3900, Loss: 0.18640569667456006\n",
            "Epoch 4000, Loss: 0.18255886036182442\n",
            "Epoch 4100, Loss: 0.17885226661191272\n",
            "Epoch 4200, Loss: 0.17527844773070478\n",
            "Epoch 4300, Loss: 0.17183047244505517\n",
            "Epoch 4400, Loss: 0.16850203921297327\n",
            "Epoch 4500, Loss: 0.16528726770592436\n",
            "Epoch 4600, Loss: 0.1621809812567307\n",
            "Epoch 4700, Loss: 0.1591777569029098\n",
            "Epoch 4800, Loss: 0.15627269393901438\n",
            "Epoch 4900, Loss: 0.15346128612156926\n",
            "Epoch 5000, Loss: 0.15073936756998121\n"
          ]
        },
        {
          "output_type": "execute_result",
          "data": {
            "text/plain": [
              "array([-3.70605033, -1.84969509, -2.49774385,  3.37009188,  3.57812439])"
            ]
          },
          "metadata": {},
          "execution_count": 199
        }
      ]
    },
    {
      "cell_type": "code",
      "source": [
        "y_pred_classes = predict_classes(x_test, log_model_nadam(x_train, y_train, lr=0.001, beta1=0.9, beta2=0.999))\n",
        "y_pred_classes"
      ],
      "metadata": {
        "colab": {
          "base_uri": "https://localhost:8080/"
        },
        "id": "gawogSvtxMt-",
        "outputId": "fcd8f1d4-94a6-4f74-8873-33b28138ed5d"
      },
      "execution_count": null,
      "outputs": [
        {
          "output_type": "execute_result",
          "data": {
            "text/plain": [
              "array([1, 1, 1, 1, 1, 0, 0, 1, 1, 1, 1, 0, 1, 1, 1, 0, 0, 0, 1, 0])"
            ]
          },
          "metadata": {},
          "execution_count": 200
        }
      ]
    },
    {
      "cell_type": "code",
      "source": [
        "accuracy_score(y_test, y_pred_classes)"
      ],
      "metadata": {
        "colab": {
          "base_uri": "https://localhost:8080/"
        },
        "id": "P8_dfm3KxRqA",
        "outputId": "6a210370-871d-49a5-aa46-67241f86ed55"
      },
      "execution_count": null,
      "outputs": [
        {
          "output_type": "execute_result",
          "data": {
            "text/plain": [
              "0.95"
            ]
          },
          "metadata": {},
          "execution_count": 201
        }
      ]
    },
    {
      "cell_type": "markdown",
      "source": [
        "# Сравните значение метрик для реализованных методов оптимизации"
      ],
      "metadata": {
        "id": "SxkzgZXTkIpO"
      }
    },
    {
      "cell_type": "code",
      "source": [
        "table_res = pd.DataFrame([\n",
        "    {'Name': 'Not optimization', 'Accuracy_score': 0.95, 'iterations': 5000,'Log loss' : 0.0908},\n",
        "    {'Name': 'RMSProp', 'Accuracy_score': 0.95, 'iterations': 5000,'Log loss': 0.0476},\n",
        "    {'Name': 'Nadam', 'Accuracy_score': 0.95, 'iterations': 5000,'Log loss': 0.150}\n",
        "])"
      ],
      "metadata": {
        "id": "W-xm1ysukRqK"
      },
      "execution_count": null,
      "outputs": []
    },
    {
      "cell_type": "code",
      "source": [
        "table_res"
      ],
      "metadata": {
        "colab": {
          "base_uri": "https://localhost:8080/",
          "height": 143
        },
        "id": "Y9UyPDg-kfJA",
        "outputId": "c8a4f611-2516-41b5-da52-3cc180c77886"
      },
      "execution_count": null,
      "outputs": [
        {
          "output_type": "execute_result",
          "data": {
            "text/plain": [
              "               Name  Accuracy_score  iterations  Log loss\n",
              "0  Not optimization            0.95        5000    0.0908\n",
              "1           RMSProp            0.95        5000    0.0476\n",
              "2             Nadam            0.95        5000    0.1500"
            ],
            "text/html": [
              "\n",
              "  <div id=\"df-55b6d5ed-37da-4a46-a15c-db3cb2bcd4aa\" class=\"colab-df-container\">\n",
              "    <div>\n",
              "<style scoped>\n",
              "    .dataframe tbody tr th:only-of-type {\n",
              "        vertical-align: middle;\n",
              "    }\n",
              "\n",
              "    .dataframe tbody tr th {\n",
              "        vertical-align: top;\n",
              "    }\n",
              "\n",
              "    .dataframe thead th {\n",
              "        text-align: right;\n",
              "    }\n",
              "</style>\n",
              "<table border=\"1\" class=\"dataframe\">\n",
              "  <thead>\n",
              "    <tr style=\"text-align: right;\">\n",
              "      <th></th>\n",
              "      <th>Name</th>\n",
              "      <th>Accuracy_score</th>\n",
              "      <th>iterations</th>\n",
              "      <th>Log loss</th>\n",
              "    </tr>\n",
              "  </thead>\n",
              "  <tbody>\n",
              "    <tr>\n",
              "      <th>0</th>\n",
              "      <td>Not optimization</td>\n",
              "      <td>0.95</td>\n",
              "      <td>5000</td>\n",
              "      <td>0.0908</td>\n",
              "    </tr>\n",
              "    <tr>\n",
              "      <th>1</th>\n",
              "      <td>RMSProp</td>\n",
              "      <td>0.95</td>\n",
              "      <td>5000</td>\n",
              "      <td>0.0476</td>\n",
              "    </tr>\n",
              "    <tr>\n",
              "      <th>2</th>\n",
              "      <td>Nadam</td>\n",
              "      <td>0.95</td>\n",
              "      <td>5000</td>\n",
              "      <td>0.1500</td>\n",
              "    </tr>\n",
              "  </tbody>\n",
              "</table>\n",
              "</div>\n",
              "    <div class=\"colab-df-buttons\">\n",
              "\n",
              "  <div class=\"colab-df-container\">\n",
              "    <button class=\"colab-df-convert\" onclick=\"convertToInteractive('df-55b6d5ed-37da-4a46-a15c-db3cb2bcd4aa')\"\n",
              "            title=\"Convert this dataframe to an interactive table.\"\n",
              "            style=\"display:none;\">\n",
              "\n",
              "  <svg xmlns=\"http://www.w3.org/2000/svg\" height=\"24px\" viewBox=\"0 -960 960 960\">\n",
              "    <path d=\"M120-120v-720h720v720H120Zm60-500h600v-160H180v160Zm220 220h160v-160H400v160Zm0 220h160v-160H400v160ZM180-400h160v-160H180v160Zm440 0h160v-160H620v160ZM180-180h160v-160H180v160Zm440 0h160v-160H620v160Z\"/>\n",
              "  </svg>\n",
              "    </button>\n",
              "\n",
              "  <style>\n",
              "    .colab-df-container {\n",
              "      display:flex;\n",
              "      gap: 12px;\n",
              "    }\n",
              "\n",
              "    .colab-df-convert {\n",
              "      background-color: #E8F0FE;\n",
              "      border: none;\n",
              "      border-radius: 50%;\n",
              "      cursor: pointer;\n",
              "      display: none;\n",
              "      fill: #1967D2;\n",
              "      height: 32px;\n",
              "      padding: 0 0 0 0;\n",
              "      width: 32px;\n",
              "    }\n",
              "\n",
              "    .colab-df-convert:hover {\n",
              "      background-color: #E2EBFA;\n",
              "      box-shadow: 0px 1px 2px rgba(60, 64, 67, 0.3), 0px 1px 3px 1px rgba(60, 64, 67, 0.15);\n",
              "      fill: #174EA6;\n",
              "    }\n",
              "\n",
              "    .colab-df-buttons div {\n",
              "      margin-bottom: 4px;\n",
              "    }\n",
              "\n",
              "    [theme=dark] .colab-df-convert {\n",
              "      background-color: #3B4455;\n",
              "      fill: #D2E3FC;\n",
              "    }\n",
              "\n",
              "    [theme=dark] .colab-df-convert:hover {\n",
              "      background-color: #434B5C;\n",
              "      box-shadow: 0px 1px 3px 1px rgba(0, 0, 0, 0.15);\n",
              "      filter: drop-shadow(0px 1px 2px rgba(0, 0, 0, 0.3));\n",
              "      fill: #FFFFFF;\n",
              "    }\n",
              "  </style>\n",
              "\n",
              "    <script>\n",
              "      const buttonEl =\n",
              "        document.querySelector('#df-55b6d5ed-37da-4a46-a15c-db3cb2bcd4aa button.colab-df-convert');\n",
              "      buttonEl.style.display =\n",
              "        google.colab.kernel.accessAllowed ? 'block' : 'none';\n",
              "\n",
              "      async function convertToInteractive(key) {\n",
              "        const element = document.querySelector('#df-55b6d5ed-37da-4a46-a15c-db3cb2bcd4aa');\n",
              "        const dataTable =\n",
              "          await google.colab.kernel.invokeFunction('convertToInteractive',\n",
              "                                                    [key], {});\n",
              "        if (!dataTable) return;\n",
              "\n",
              "        const docLinkHtml = 'Like what you see? Visit the ' +\n",
              "          '<a target=\"_blank\" href=https://colab.research.google.com/notebooks/data_table.ipynb>data table notebook</a>'\n",
              "          + ' to learn more about interactive tables.';\n",
              "        element.innerHTML = '';\n",
              "        dataTable['output_type'] = 'display_data';\n",
              "        await google.colab.output.renderOutput(dataTable, element);\n",
              "        const docLink = document.createElement('div');\n",
              "        docLink.innerHTML = docLinkHtml;\n",
              "        element.appendChild(docLink);\n",
              "      }\n",
              "    </script>\n",
              "  </div>\n",
              "\n",
              "\n",
              "<div id=\"df-1035d3c1-ddd9-4d29-a63b-f0f184fa863a\">\n",
              "  <button class=\"colab-df-quickchart\" onclick=\"quickchart('df-1035d3c1-ddd9-4d29-a63b-f0f184fa863a')\"\n",
              "            title=\"Suggest charts\"\n",
              "            style=\"display:none;\">\n",
              "\n",
              "<svg xmlns=\"http://www.w3.org/2000/svg\" height=\"24px\"viewBox=\"0 0 24 24\"\n",
              "     width=\"24px\">\n",
              "    <g>\n",
              "        <path d=\"M19 3H5c-1.1 0-2 .9-2 2v14c0 1.1.9 2 2 2h14c1.1 0 2-.9 2-2V5c0-1.1-.9-2-2-2zM9 17H7v-7h2v7zm4 0h-2V7h2v10zm4 0h-2v-4h2v4z\"/>\n",
              "    </g>\n",
              "</svg>\n",
              "  </button>\n",
              "\n",
              "<style>\n",
              "  .colab-df-quickchart {\n",
              "      --bg-color: #E8F0FE;\n",
              "      --fill-color: #1967D2;\n",
              "      --hover-bg-color: #E2EBFA;\n",
              "      --hover-fill-color: #174EA6;\n",
              "      --disabled-fill-color: #AAA;\n",
              "      --disabled-bg-color: #DDD;\n",
              "  }\n",
              "\n",
              "  [theme=dark] .colab-df-quickchart {\n",
              "      --bg-color: #3B4455;\n",
              "      --fill-color: #D2E3FC;\n",
              "      --hover-bg-color: #434B5C;\n",
              "      --hover-fill-color: #FFFFFF;\n",
              "      --disabled-bg-color: #3B4455;\n",
              "      --disabled-fill-color: #666;\n",
              "  }\n",
              "\n",
              "  .colab-df-quickchart {\n",
              "    background-color: var(--bg-color);\n",
              "    border: none;\n",
              "    border-radius: 50%;\n",
              "    cursor: pointer;\n",
              "    display: none;\n",
              "    fill: var(--fill-color);\n",
              "    height: 32px;\n",
              "    padding: 0;\n",
              "    width: 32px;\n",
              "  }\n",
              "\n",
              "  .colab-df-quickchart:hover {\n",
              "    background-color: var(--hover-bg-color);\n",
              "    box-shadow: 0 1px 2px rgba(60, 64, 67, 0.3), 0 1px 3px 1px rgba(60, 64, 67, 0.15);\n",
              "    fill: var(--button-hover-fill-color);\n",
              "  }\n",
              "\n",
              "  .colab-df-quickchart-complete:disabled,\n",
              "  .colab-df-quickchart-complete:disabled:hover {\n",
              "    background-color: var(--disabled-bg-color);\n",
              "    fill: var(--disabled-fill-color);\n",
              "    box-shadow: none;\n",
              "  }\n",
              "\n",
              "  .colab-df-spinner {\n",
              "    border: 2px solid var(--fill-color);\n",
              "    border-color: transparent;\n",
              "    border-bottom-color: var(--fill-color);\n",
              "    animation:\n",
              "      spin 1s steps(1) infinite;\n",
              "  }\n",
              "\n",
              "  @keyframes spin {\n",
              "    0% {\n",
              "      border-color: transparent;\n",
              "      border-bottom-color: var(--fill-color);\n",
              "      border-left-color: var(--fill-color);\n",
              "    }\n",
              "    20% {\n",
              "      border-color: transparent;\n",
              "      border-left-color: var(--fill-color);\n",
              "      border-top-color: var(--fill-color);\n",
              "    }\n",
              "    30% {\n",
              "      border-color: transparent;\n",
              "      border-left-color: var(--fill-color);\n",
              "      border-top-color: var(--fill-color);\n",
              "      border-right-color: var(--fill-color);\n",
              "    }\n",
              "    40% {\n",
              "      border-color: transparent;\n",
              "      border-right-color: var(--fill-color);\n",
              "      border-top-color: var(--fill-color);\n",
              "    }\n",
              "    60% {\n",
              "      border-color: transparent;\n",
              "      border-right-color: var(--fill-color);\n",
              "    }\n",
              "    80% {\n",
              "      border-color: transparent;\n",
              "      border-right-color: var(--fill-color);\n",
              "      border-bottom-color: var(--fill-color);\n",
              "    }\n",
              "    90% {\n",
              "      border-color: transparent;\n",
              "      border-bottom-color: var(--fill-color);\n",
              "    }\n",
              "  }\n",
              "</style>\n",
              "\n",
              "  <script>\n",
              "    async function quickchart(key) {\n",
              "      const quickchartButtonEl =\n",
              "        document.querySelector('#' + key + ' button');\n",
              "      quickchartButtonEl.disabled = true;  // To prevent multiple clicks.\n",
              "      quickchartButtonEl.classList.add('colab-df-spinner');\n",
              "      try {\n",
              "        const charts = await google.colab.kernel.invokeFunction(\n",
              "            'suggestCharts', [key], {});\n",
              "      } catch (error) {\n",
              "        console.error('Error during call to suggestCharts:', error);\n",
              "      }\n",
              "      quickchartButtonEl.classList.remove('colab-df-spinner');\n",
              "      quickchartButtonEl.classList.add('colab-df-quickchart-complete');\n",
              "    }\n",
              "    (() => {\n",
              "      let quickchartButtonEl =\n",
              "        document.querySelector('#df-1035d3c1-ddd9-4d29-a63b-f0f184fa863a button');\n",
              "      quickchartButtonEl.style.display =\n",
              "        google.colab.kernel.accessAllowed ? 'block' : 'none';\n",
              "    })();\n",
              "  </script>\n",
              "</div>\n",
              "    </div>\n",
              "  </div>\n"
            ],
            "application/vnd.google.colaboratory.intrinsic+json": {
              "type": "dataframe",
              "variable_name": "table_res",
              "summary": "{\n  \"name\": \"table_res\",\n  \"rows\": 3,\n  \"fields\": [\n    {\n      \"column\": \"Name\",\n      \"properties\": {\n        \"dtype\": \"string\",\n        \"num_unique_values\": 3,\n        \"samples\": [\n          \"Not optimization\",\n          \"RMSProp\",\n          \"Nadam\"\n        ],\n        \"semantic_type\": \"\",\n        \"description\": \"\"\n      }\n    },\n    {\n      \"column\": \"Accuracy_score\",\n      \"properties\": {\n        \"dtype\": \"number\",\n        \"std\": 1.3597399555105182e-16,\n        \"min\": 0.95,\n        \"max\": 0.95,\n        \"num_unique_values\": 1,\n        \"samples\": [\n          0.95\n        ],\n        \"semantic_type\": \"\",\n        \"description\": \"\"\n      }\n    },\n    {\n      \"column\": \"iterations\",\n      \"properties\": {\n        \"dtype\": \"number\",\n        \"std\": 0,\n        \"min\": 5000,\n        \"max\": 5000,\n        \"num_unique_values\": 1,\n        \"samples\": [\n          5000\n        ],\n        \"semantic_type\": \"\",\n        \"description\": \"\"\n      }\n    },\n    {\n      \"column\": \"Log loss\",\n      \"properties\": {\n        \"dtype\": \"number\",\n        \"std\": 0.051407911194030556,\n        \"min\": 0.0476,\n        \"max\": 0.15,\n        \"num_unique_values\": 3,\n        \"samples\": [\n          0.0908\n        ],\n        \"semantic_type\": \"\",\n        \"description\": \"\"\n      }\n    }\n  ]\n}"
            }
          },
          "metadata": {},
          "execution_count": 203
        }
      ]
    },
    {
      "cell_type": "markdown",
      "source": [
        "# Вывод"
      ],
      "metadata": {
        "id": "VvX5RL-Io2Wc"
      }
    },
    {
      "cell_type": "markdown",
      "source": [
        "При 5000 итерациях все модели показывают высокий результат по accuracy score = 0.95 \\\n",
        "Самый низкий функционал ошибки на последней итерации у RMSProp 0.0476, у модели без оптимизации 0.0908,  Nadam 0.1500. \\\n",
        "По результатам работы могу прийти к выводу, что не всегда оптимизация может помочь уменьшить функцию ошибки, а иногда может и увеличить её. \\\n",
        " Поэтому важно выбирать метод оптимизации основываясь на особенностях данных."
      ],
      "metadata": {
        "id": "hcQKqlCoqib9"
      }
    }
  ]
}